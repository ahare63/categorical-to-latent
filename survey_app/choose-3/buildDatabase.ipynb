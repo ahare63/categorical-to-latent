{
 "cells": [
  {
   "cell_type": "markdown",
   "metadata": {},
   "source": [
    "This notebook builds the database used in the survey."
   ]
  },
  {
   "cell_type": "code",
   "execution_count": 1,
   "metadata": {},
   "outputs": [],
   "source": [
    "import embeddings\n",
    "import faiss\n",
    "import json\n",
    "import Levenshtein\n",
    "import numpy as np\n",
    "import random\n",
    "\n",
    "from process_words import *\n",
    "from process_sentences import *\n",
    "from similarity_search import *\n",
    "import utils"
   ]
  },
  {
   "cell_type": "code",
   "execution_count": 8,
   "metadata": {
    "scrolled": false
   },
   "outputs": [],
   "source": [
    "def clean_sentence(sen):\n",
    "    sen = sen.replace(\"``\", \"“\")\n",
    "    sen = sen.replace(\"''\", \"“\")\n",
    "    sen = sen.replace(\" .\", \".\")\n",
    "    sen = sen.replace(\" ,\", \",\")\n",
    "    sen = sen.replace(\" ?\", \"?\")\n",
    "    sen = sen.replace(\" !\", \"!\")\n",
    "    sen = sen.replace(\" ’ s\", \"’s\")\n",
    "    sen = sen.replace(\" ’ t\", \"’t\")\n",
    "    sen = sen.replace(\" n't\", \"n't\")\n",
    "    sen = sen.replace(\" ’ ll\", \"’ll\")\n",
    "    sen = sen.replace(\" 've\", \"'ve\")\n",
    "    sen = sen.replace(\" 'll\", \"'ll\")\n",
    "    sen = sen.replace(\" ’ m\", \"’m\")\n",
    "    sen = sen.replace(\" 's\", \"'s\")\n",
    "    sen = sen.replace(\" ’ ve\", \"’ve\")\n",
    "    sen = sen.replace(\" 'm\", \"'m\")\n",
    "    sen = sen.replace(\" ’ d\", \"’d\")\n",
    "    sen = sen.replace(\" 're\", \"'re\")\n",
    "    sen = sen.replace(\" 'd\", \"'d\")\n",
    "    sen = sen.replace(\" ;\", \";\")\n",
    "    sen = sen.replace(\" :\", \":\")\n",
    "    sen = sen.replace(\"( \", \"(\")\n",
    "    sen = sen.replace(\" )\", \")\")\n",
    "    sen = sen.replace(\" ”\", \"”\")\n",
    "    sen = sen.replace(\"“ \", \"“\")\n",
    "    sen = sen.replace(\" “\", \"“\")\n",
    "    return sen\n",
    "\n",
    "def get_results(query, s):\n",
    "    edits_allowed = 5  # This accounts for manual adjustments to the query sentence\n",
    "    res = {}\n",
    "    res[\"query\"] = query\n",
    "    res[\"difficulty\"] = s.data_name.split(\"_\")[1]\n",
    "    \n",
    "    set_cover = [clean_sentence(x) for x in s.get_k_set_cover(query)]\n",
    "    set_cover = [x for x in set_cover if Levenshtein.distance(query, x) > edits_allowed][:5]\n",
    "    \n",
    "    res[\"set_cover\"] = {k: v for k,v in zip(range(0, s.k), set_cover)}\n",
    "    \n",
    "    s.update_search_params(use_wt=True, use_dis=True)\n",
    "    weighted_set_cover = [clean_sentence(x) for x in s.get_k_set_cover(query)]\n",
    "    weighted_set_cover = [x for x in weighted_set_cover if Levenshtein.distance(query, x) > edits_allowed][:5]\n",
    "    s.update_search_params(use_wt=False, use_dis=False)\n",
    "    res[\"weighted_set_cover\"] = {k: v for k,v in zip(range(0, s.k), weighted_set_cover)}\n",
    "    \n",
    "    avg = [clean_sentence(x) for x in s.get_k_avg_embed(query)]\n",
    "    avg = [x for x in avg if x != query][:5]\n",
    "    res[\"embedding_average\"] = {k: v for k,v in zip(range(0, s.k), avg)}\n",
    "    \n",
    "    for metric in [\"word_movers_distance\", \"jaccard\", \"edit_distance\"]:\n",
    "        non_ind = [clean_sentence(x) for x in s.get_k_non_index(query, metric)]\n",
    "        non_ind = [x for x in non_ind if Levenshtein.distance(query, x) > edits_allowed][:5]\n",
    "        res[metric] = {k: v for k,v in zip(range(0, s.k), non_ind)}\n",
    "        \n",
    "    return res\n",
    "\n",
    "def build_db(query_list=None, sim_list=None):\n",
    "    if query_list is None:\n",
    "        with open(\"./queries.json\", \"r\") as f:\n",
    "            queries = json.load(f)\n",
    "            query_list = [queries[\"middle\"], queries[\"high\"], queries[\"college\"]]\n",
    "            \n",
    "    if sim_list is None:\n",
    "        embedder = embeddings.FastTextEmbedding()\n",
    "        sim_list = []\n",
    "        for key in [\"middle\", \"high\", \"college\"]:\n",
    "            sim = SimilarSentences(f'books_{key}', embedder)\n",
    "            sim.update_search_params(k=6) # to avoid repetition\n",
    "            sim.set_stopwords()\n",
    "            sim.embed_sentences()\n",
    "            sim.build_sentence_index()\n",
    "            sim.embed_words()\n",
    "            sim.build_word_index()\n",
    "            sim_list.append(sim)\n",
    "            \n",
    "    result = {}\n",
    "    ind = 0\n",
    "    for q_list, s in zip(query_list, sim_list):\n",
    "        for q in q_list:\n",
    "            result[str(ind)] = get_results(q, s)\n",
    "            ind += 1\n",
    "    with open(\"./database.json\", \"w\") as f:\n",
    "        json.dump(result, f, indent=2)\n",
    "\n",
    "def sample_sentences(n, sim):\n",
    "    return [clean_sentence(x) for x in random.sample(sim.sen_2_ind.keys(), n)]\n"
   ]
  },
  {
   "cell_type": "code",
   "execution_count": null,
   "metadata": {},
   "outputs": [],
   "source": [
    "embedder = embeddings.FastTextEmbedding()\n",
    "sim_list = []\n",
    "for key in [\"middle\", \"high\", \"college\"]:\n",
    "    sim = SimilarSentences(f'books_{key}', embedder)\n",
    "    sim.update_search_params(k=6, use_wmd_estimate=True) # to avoid repetition\n",
    "    sim.set_stopwords()\n",
    "    sim.embed_sentences()\n",
    "    sim.build_sentence_index()\n",
    "    sim.embed_words()\n",
    "    sim.build_word_index()\n",
    "    sim_list.append(sim)"
   ]
  },
  {
   "cell_type": "code",
   "execution_count": 9,
   "metadata": {},
   "outputs": [],
   "source": [
    "build_db(sim_list=sim_list)"
   ]
  }
 ],
 "metadata": {
  "kernelspec": {
   "display_name": "entropy_model",
   "language": "python",
   "name": "entropy_model"
  },
  "language_info": {
   "codemirror_mode": {
    "name": "ipython",
    "version": 3
   },
   "file_extension": ".py",
   "mimetype": "text/x-python",
   "name": "python",
   "nbconvert_exporter": "python",
   "pygments_lexer": "ipython3",
   "version": "3.7.7"
  }
 },
 "nbformat": 4,
 "nbformat_minor": 4
}
